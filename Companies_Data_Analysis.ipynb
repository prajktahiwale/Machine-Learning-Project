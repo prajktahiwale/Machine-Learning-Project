{
  "nbformat": 4,
  "nbformat_minor": 0,
  "metadata": {
    "colab": {
      "name": "Companies Data Analysis.ipynb",
      "provenance": [],
      "collapsed_sections": [],
      "authorship_tag": "ABX9TyPPFQRcnPgvdUzH+YRt6yHk",
      "include_colab_link": true
    },
    "kernelspec": {
      "name": "python3",
      "display_name": "Python 3"
    },
    "language_info": {
      "name": "python"
    }
  },
  "cells": [
    {
      "cell_type": "markdown",
      "metadata": {
        "id": "view-in-github",
        "colab_type": "text"
      },
      "source": [
        "<a href=\"https://colab.research.google.com/github/prajktahiwale/Machine-Learning-Project/blob/main/Companies_Data_Analysis.ipynb\" target=\"_parent\"><img src=\"https://colab.research.google.com/assets/colab-badge.svg\" alt=\"Open In Colab\"/></a>"
      ]
    },
    {
      "cell_type": "code",
      "metadata": {
        "id": "9kyHWmwdg6Pk"
      },
      "source": [
        "#import labraries"
      ],
      "execution_count": 42,
      "outputs": []
    },
    {
      "cell_type": "code",
      "metadata": {
        "id": "ZkHNKvVuhYF7"
      },
      "source": [
        "import pandas as pd \n",
        "import numpy as np"
      ],
      "execution_count": 1,
      "outputs": []
    },
    {
      "cell_type": "code",
      "metadata": {
        "colab": {
          "base_uri": "https://localhost:8080/"
        },
        "id": "M1UVKf-BhZuA",
        "outputId": "8207aa6c-a96e-40b9-fd8c-51e07bb300bb"
      },
      "source": [
        "!pip install tabula-py"
      ],
      "execution_count": 3,
      "outputs": [
        {
          "output_type": "stream",
          "name": "stdout",
          "text": [
            "Collecting tabula-py\n",
            "  Downloading tabula_py-2.3.0-py3-none-any.whl (12.0 MB)\n",
            "\u001b[K     |████████████████████████████████| 12.0 MB 103 kB/s \n",
            "\u001b[?25hCollecting distro\n",
            "  Downloading distro-1.6.0-py2.py3-none-any.whl (19 kB)\n",
            "Requirement already satisfied: numpy in /usr/local/lib/python3.7/dist-packages (from tabula-py) (1.19.5)\n",
            "Requirement already satisfied: pandas>=0.25.3 in /usr/local/lib/python3.7/dist-packages (from tabula-py) (1.1.5)\n",
            "Requirement already satisfied: python-dateutil>=2.7.3 in /usr/local/lib/python3.7/dist-packages (from pandas>=0.25.3->tabula-py) (2.8.2)\n",
            "Requirement already satisfied: pytz>=2017.2 in /usr/local/lib/python3.7/dist-packages (from pandas>=0.25.3->tabula-py) (2018.9)\n",
            "Requirement already satisfied: six>=1.5 in /usr/local/lib/python3.7/dist-packages (from python-dateutil>=2.7.3->pandas>=0.25.3->tabula-py) (1.15.0)\n",
            "Installing collected packages: distro, tabula-py\n",
            "Successfully installed distro-1.6.0 tabula-py-2.3.0\n"
          ]
        }
      ]
    },
    {
      "cell_type": "code",
      "metadata": {
        "colab": {
          "base_uri": "https://localhost:8080/"
        },
        "id": "fdI3VsftiBr1",
        "outputId": "ba8f4fe9-423a-4713-ffba-dd981461a9ca"
      },
      "source": [
        "  #MOUNT DRIVE\n",
        "from google.colab import drive\n",
        "drive.mount('/content/drive')"
      ],
      "execution_count": 5,
      "outputs": [
        {
          "output_type": "stream",
          "name": "stdout",
          "text": [
            "Mounted at /content/drive\n"
          ]
        }
      ]
    },
    {
      "cell_type": "code",
      "metadata": {
        "id": "vldQeUCkiJU-"
      },
      "source": [
        "cd=pd.read_excel('/content/drive/My Drive/companies data.xlsx')"
      ],
      "execution_count": 9,
      "outputs": []
    },
    {
      "cell_type": "code",
      "metadata": {
        "colab": {
          "base_uri": "https://localhost:8080/",
          "height": 203
        },
        "id": "keLm689viamR",
        "outputId": "6d80083a-25d6-45d6-b2dd-62bea8a6f1d0"
      },
      "source": [
        "cd.head(5)"
      ],
      "execution_count": 11,
      "outputs": [
        {
          "output_type": "execute_result",
          "data": {
            "text/html": [
              "<div>\n",
              "<style scoped>\n",
              "    .dataframe tbody tr th:only-of-type {\n",
              "        vertical-align: middle;\n",
              "    }\n",
              "\n",
              "    .dataframe tbody tr th {\n",
              "        vertical-align: top;\n",
              "    }\n",
              "\n",
              "    .dataframe thead th {\n",
              "        text-align: right;\n",
              "    }\n",
              "</style>\n",
              "<table border=\"1\" class=\"dataframe\">\n",
              "  <thead>\n",
              "    <tr style=\"text-align: right;\">\n",
              "      <th></th>\n",
              "      <th>R&amp;D_Spend</th>\n",
              "      <th>Administration</th>\n",
              "      <th>Marketing_Spend</th>\n",
              "      <th>State</th>\n",
              "      <th>Profit</th>\n",
              "    </tr>\n",
              "  </thead>\n",
              "  <tbody>\n",
              "    <tr>\n",
              "      <th>0</th>\n",
              "      <td>165349.20</td>\n",
              "      <td>136897.80</td>\n",
              "      <td>471784.10</td>\n",
              "      <td>New York</td>\n",
              "      <td>192261.83</td>\n",
              "    </tr>\n",
              "    <tr>\n",
              "      <th>1</th>\n",
              "      <td>162597.70</td>\n",
              "      <td>151377.59</td>\n",
              "      <td>443898.53</td>\n",
              "      <td>California</td>\n",
              "      <td>191792.06</td>\n",
              "    </tr>\n",
              "    <tr>\n",
              "      <th>2</th>\n",
              "      <td>153441.51</td>\n",
              "      <td>101145.55</td>\n",
              "      <td>407934.54</td>\n",
              "      <td>Florida</td>\n",
              "      <td>191050.39</td>\n",
              "    </tr>\n",
              "    <tr>\n",
              "      <th>3</th>\n",
              "      <td>144372.41</td>\n",
              "      <td>118671.85</td>\n",
              "      <td>383199.62</td>\n",
              "      <td>New York</td>\n",
              "      <td>182901.99</td>\n",
              "    </tr>\n",
              "    <tr>\n",
              "      <th>4</th>\n",
              "      <td>142107.34</td>\n",
              "      <td>91391.77</td>\n",
              "      <td>366168.42</td>\n",
              "      <td>Florida</td>\n",
              "      <td>166187.94</td>\n",
              "    </tr>\n",
              "  </tbody>\n",
              "</table>\n",
              "</div>"
            ],
            "text/plain": [
              "   R&D_Spend  Administration  Marketing_Spend       State     Profit\n",
              "0  165349.20       136897.80        471784.10    New York  192261.83\n",
              "1  162597.70       151377.59        443898.53  California  191792.06\n",
              "2  153441.51       101145.55        407934.54     Florida  191050.39\n",
              "3  144372.41       118671.85        383199.62    New York  182901.99\n",
              "4  142107.34        91391.77        366168.42     Florida  166187.94"
            ]
          },
          "metadata": {},
          "execution_count": 11
        }
      ]
    },
    {
      "cell_type": "code",
      "metadata": {
        "id": "ET4TqON2i5CP"
      },
      "source": [
        "cd['Spend']=cd['R&D_Spend']"
      ],
      "execution_count": 12,
      "outputs": []
    },
    {
      "cell_type": "code",
      "metadata": {
        "id": "daTUSaxbjcqZ"
      },
      "source": [
        "a=cd.drop('R&D_Spend',axis=1)"
      ],
      "execution_count": 13,
      "outputs": []
    },
    {
      "cell_type": "code",
      "metadata": {
        "colab": {
          "base_uri": "https://localhost:8080/",
          "height": 417
        },
        "id": "GSC8uf6ZjpWQ",
        "outputId": "b079d389-350a-47f2-e5d6-5f865d865f4f"
      },
      "source": [
        "a"
      ],
      "execution_count": 14,
      "outputs": [
        {
          "output_type": "execute_result",
          "data": {
            "text/html": [
              "<div>\n",
              "<style scoped>\n",
              "    .dataframe tbody tr th:only-of-type {\n",
              "        vertical-align: middle;\n",
              "    }\n",
              "\n",
              "    .dataframe tbody tr th {\n",
              "        vertical-align: top;\n",
              "    }\n",
              "\n",
              "    .dataframe thead th {\n",
              "        text-align: right;\n",
              "    }\n",
              "</style>\n",
              "<table border=\"1\" class=\"dataframe\">\n",
              "  <thead>\n",
              "    <tr style=\"text-align: right;\">\n",
              "      <th></th>\n",
              "      <th>Administration</th>\n",
              "      <th>Marketing_Spend</th>\n",
              "      <th>State</th>\n",
              "      <th>Profit</th>\n",
              "      <th>Spend</th>\n",
              "    </tr>\n",
              "  </thead>\n",
              "  <tbody>\n",
              "    <tr>\n",
              "      <th>0</th>\n",
              "      <td>136897.800</td>\n",
              "      <td>471784.1000</td>\n",
              "      <td>New York</td>\n",
              "      <td>192261.83000</td>\n",
              "      <td>165349.20</td>\n",
              "    </tr>\n",
              "    <tr>\n",
              "      <th>1</th>\n",
              "      <td>151377.590</td>\n",
              "      <td>443898.5300</td>\n",
              "      <td>California</td>\n",
              "      <td>191792.06000</td>\n",
              "      <td>162597.70</td>\n",
              "    </tr>\n",
              "    <tr>\n",
              "      <th>2</th>\n",
              "      <td>101145.550</td>\n",
              "      <td>407934.5400</td>\n",
              "      <td>Florida</td>\n",
              "      <td>191050.39000</td>\n",
              "      <td>153441.51</td>\n",
              "    </tr>\n",
              "    <tr>\n",
              "      <th>3</th>\n",
              "      <td>118671.850</td>\n",
              "      <td>383199.6200</td>\n",
              "      <td>New York</td>\n",
              "      <td>182901.99000</td>\n",
              "      <td>144372.41</td>\n",
              "    </tr>\n",
              "    <tr>\n",
              "      <th>4</th>\n",
              "      <td>91391.770</td>\n",
              "      <td>366168.4200</td>\n",
              "      <td>Florida</td>\n",
              "      <td>166187.94000</td>\n",
              "      <td>142107.34</td>\n",
              "    </tr>\n",
              "    <tr>\n",
              "      <th>...</th>\n",
              "      <td>...</td>\n",
              "      <td>...</td>\n",
              "      <td>...</td>\n",
              "      <td>...</td>\n",
              "      <td>...</td>\n",
              "    </tr>\n",
              "    <tr>\n",
              "      <th>995</th>\n",
              "      <td>118451.999</td>\n",
              "      <td>173232.6695</td>\n",
              "      <td>California</td>\n",
              "      <td>95279.96251</td>\n",
              "      <td>54135.00</td>\n",
              "    </tr>\n",
              "    <tr>\n",
              "      <th>996</th>\n",
              "      <td>130390.080</td>\n",
              "      <td>329204.0228</td>\n",
              "      <td>California</td>\n",
              "      <td>164336.60550</td>\n",
              "      <td>134970.00</td>\n",
              "    </tr>\n",
              "    <tr>\n",
              "      <th>997</th>\n",
              "      <td>241926.310</td>\n",
              "      <td>227142.8200</td>\n",
              "      <td>California</td>\n",
              "      <td>413956.48000</td>\n",
              "      <td>100275.47</td>\n",
              "    </tr>\n",
              "    <tr>\n",
              "      <th>998</th>\n",
              "      <td>321652.140</td>\n",
              "      <td>281692.3200</td>\n",
              "      <td>California</td>\n",
              "      <td>333962.19000</td>\n",
              "      <td>128456.23</td>\n",
              "    </tr>\n",
              "    <tr>\n",
              "      <th>999</th>\n",
              "      <td>270939.860</td>\n",
              "      <td>295442.1700</td>\n",
              "      <td>New York</td>\n",
              "      <td>476485.43000</td>\n",
              "      <td>161181.72</td>\n",
              "    </tr>\n",
              "  </tbody>\n",
              "</table>\n",
              "<p>1000 rows × 5 columns</p>\n",
              "</div>"
            ],
            "text/plain": [
              "     Administration  Marketing_Spend       State        Profit      Spend\n",
              "0        136897.800      471784.1000    New York  192261.83000  165349.20\n",
              "1        151377.590      443898.5300  California  191792.06000  162597.70\n",
              "2        101145.550      407934.5400     Florida  191050.39000  153441.51\n",
              "3        118671.850      383199.6200    New York  182901.99000  144372.41\n",
              "4         91391.770      366168.4200     Florida  166187.94000  142107.34\n",
              "..              ...              ...         ...           ...        ...\n",
              "995      118451.999      173232.6695  California   95279.96251   54135.00\n",
              "996      130390.080      329204.0228  California  164336.60550  134970.00\n",
              "997      241926.310      227142.8200  California  413956.48000  100275.47\n",
              "998      321652.140      281692.3200  California  333962.19000  128456.23\n",
              "999      270939.860      295442.1700    New York  476485.43000  161181.72\n",
              "\n",
              "[1000 rows x 5 columns]"
            ]
          },
          "metadata": {},
          "execution_count": 14
        }
      ]
    },
    {
      "cell_type": "code",
      "metadata": {
        "colab": {
          "base_uri": "https://localhost:8080/",
          "height": 417
        },
        "id": "TcIkBZOAjryP",
        "outputId": "e6dddce9-10e5-481a-886e-93ea2e1cb797"
      },
      "source": [
        "a=a.drop([0],axis=0)\n",
        "a"
      ],
      "execution_count": 15,
      "outputs": [
        {
          "output_type": "execute_result",
          "data": {
            "text/html": [
              "<div>\n",
              "<style scoped>\n",
              "    .dataframe tbody tr th:only-of-type {\n",
              "        vertical-align: middle;\n",
              "    }\n",
              "\n",
              "    .dataframe tbody tr th {\n",
              "        vertical-align: top;\n",
              "    }\n",
              "\n",
              "    .dataframe thead th {\n",
              "        text-align: right;\n",
              "    }\n",
              "</style>\n",
              "<table border=\"1\" class=\"dataframe\">\n",
              "  <thead>\n",
              "    <tr style=\"text-align: right;\">\n",
              "      <th></th>\n",
              "      <th>Administration</th>\n",
              "      <th>Marketing_Spend</th>\n",
              "      <th>State</th>\n",
              "      <th>Profit</th>\n",
              "      <th>Spend</th>\n",
              "    </tr>\n",
              "  </thead>\n",
              "  <tbody>\n",
              "    <tr>\n",
              "      <th>1</th>\n",
              "      <td>151377.590</td>\n",
              "      <td>443898.5300</td>\n",
              "      <td>California</td>\n",
              "      <td>191792.06000</td>\n",
              "      <td>162597.70</td>\n",
              "    </tr>\n",
              "    <tr>\n",
              "      <th>2</th>\n",
              "      <td>101145.550</td>\n",
              "      <td>407934.5400</td>\n",
              "      <td>Florida</td>\n",
              "      <td>191050.39000</td>\n",
              "      <td>153441.51</td>\n",
              "    </tr>\n",
              "    <tr>\n",
              "      <th>3</th>\n",
              "      <td>118671.850</td>\n",
              "      <td>383199.6200</td>\n",
              "      <td>New York</td>\n",
              "      <td>182901.99000</td>\n",
              "      <td>144372.41</td>\n",
              "    </tr>\n",
              "    <tr>\n",
              "      <th>4</th>\n",
              "      <td>91391.770</td>\n",
              "      <td>366168.4200</td>\n",
              "      <td>Florida</td>\n",
              "      <td>166187.94000</td>\n",
              "      <td>142107.34</td>\n",
              "    </tr>\n",
              "    <tr>\n",
              "      <th>5</th>\n",
              "      <td>99814.710</td>\n",
              "      <td>362861.3600</td>\n",
              "      <td>New York</td>\n",
              "      <td>156991.12000</td>\n",
              "      <td>131876.90</td>\n",
              "    </tr>\n",
              "    <tr>\n",
              "      <th>...</th>\n",
              "      <td>...</td>\n",
              "      <td>...</td>\n",
              "      <td>...</td>\n",
              "      <td>...</td>\n",
              "      <td>...</td>\n",
              "    </tr>\n",
              "    <tr>\n",
              "      <th>995</th>\n",
              "      <td>118451.999</td>\n",
              "      <td>173232.6695</td>\n",
              "      <td>California</td>\n",
              "      <td>95279.96251</td>\n",
              "      <td>54135.00</td>\n",
              "    </tr>\n",
              "    <tr>\n",
              "      <th>996</th>\n",
              "      <td>130390.080</td>\n",
              "      <td>329204.0228</td>\n",
              "      <td>California</td>\n",
              "      <td>164336.60550</td>\n",
              "      <td>134970.00</td>\n",
              "    </tr>\n",
              "    <tr>\n",
              "      <th>997</th>\n",
              "      <td>241926.310</td>\n",
              "      <td>227142.8200</td>\n",
              "      <td>California</td>\n",
              "      <td>413956.48000</td>\n",
              "      <td>100275.47</td>\n",
              "    </tr>\n",
              "    <tr>\n",
              "      <th>998</th>\n",
              "      <td>321652.140</td>\n",
              "      <td>281692.3200</td>\n",
              "      <td>California</td>\n",
              "      <td>333962.19000</td>\n",
              "      <td>128456.23</td>\n",
              "    </tr>\n",
              "    <tr>\n",
              "      <th>999</th>\n",
              "      <td>270939.860</td>\n",
              "      <td>295442.1700</td>\n",
              "      <td>New York</td>\n",
              "      <td>476485.43000</td>\n",
              "      <td>161181.72</td>\n",
              "    </tr>\n",
              "  </tbody>\n",
              "</table>\n",
              "<p>999 rows × 5 columns</p>\n",
              "</div>"
            ],
            "text/plain": [
              "     Administration  Marketing_Spend       State        Profit      Spend\n",
              "1        151377.590      443898.5300  California  191792.06000  162597.70\n",
              "2        101145.550      407934.5400     Florida  191050.39000  153441.51\n",
              "3        118671.850      383199.6200    New York  182901.99000  144372.41\n",
              "4         91391.770      366168.4200     Florida  166187.94000  142107.34\n",
              "5         99814.710      362861.3600    New York  156991.12000  131876.90\n",
              "..              ...              ...         ...           ...        ...\n",
              "995      118451.999      173232.6695  California   95279.96251   54135.00\n",
              "996      130390.080      329204.0228  California  164336.60550  134970.00\n",
              "997      241926.310      227142.8200  California  413956.48000  100275.47\n",
              "998      321652.140      281692.3200  California  333962.19000  128456.23\n",
              "999      270939.860      295442.1700    New York  476485.43000  161181.72\n",
              "\n",
              "[999 rows x 5 columns]"
            ]
          },
          "metadata": {},
          "execution_count": 15
        }
      ]
    },
    {
      "cell_type": "code",
      "metadata": {
        "colab": {
          "base_uri": "https://localhost:8080/"
        },
        "id": "pJO6V9_Pj4uk",
        "outputId": "5a351fdc-8722-46f9-a5da-d70544e92c35"
      },
      "source": [
        "a.isnull().sum()"
      ],
      "execution_count": 16,
      "outputs": [
        {
          "output_type": "execute_result",
          "data": {
            "text/plain": [
              "Administration     0\n",
              "Marketing_Spend    0\n",
              "State              0\n",
              "Profit             0\n",
              "Spend              0\n",
              "dtype: int64"
            ]
          },
          "metadata": {},
          "execution_count": 16
        }
      ]
    },
    {
      "cell_type": "code",
      "metadata": {
        "colab": {
          "base_uri": "https://localhost:8080/",
          "height": 203
        },
        "id": "5mdS0g_kkAAA",
        "outputId": "b392421d-cccf-440d-c2f6-dcb0f91efb63"
      },
      "source": [
        "a.head(5)"
      ],
      "execution_count": 17,
      "outputs": [
        {
          "output_type": "execute_result",
          "data": {
            "text/html": [
              "<div>\n",
              "<style scoped>\n",
              "    .dataframe tbody tr th:only-of-type {\n",
              "        vertical-align: middle;\n",
              "    }\n",
              "\n",
              "    .dataframe tbody tr th {\n",
              "        vertical-align: top;\n",
              "    }\n",
              "\n",
              "    .dataframe thead th {\n",
              "        text-align: right;\n",
              "    }\n",
              "</style>\n",
              "<table border=\"1\" class=\"dataframe\">\n",
              "  <thead>\n",
              "    <tr style=\"text-align: right;\">\n",
              "      <th></th>\n",
              "      <th>Administration</th>\n",
              "      <th>Marketing_Spend</th>\n",
              "      <th>State</th>\n",
              "      <th>Profit</th>\n",
              "      <th>Spend</th>\n",
              "    </tr>\n",
              "  </thead>\n",
              "  <tbody>\n",
              "    <tr>\n",
              "      <th>1</th>\n",
              "      <td>151377.59</td>\n",
              "      <td>443898.53</td>\n",
              "      <td>California</td>\n",
              "      <td>191792.06</td>\n",
              "      <td>162597.70</td>\n",
              "    </tr>\n",
              "    <tr>\n",
              "      <th>2</th>\n",
              "      <td>101145.55</td>\n",
              "      <td>407934.54</td>\n",
              "      <td>Florida</td>\n",
              "      <td>191050.39</td>\n",
              "      <td>153441.51</td>\n",
              "    </tr>\n",
              "    <tr>\n",
              "      <th>3</th>\n",
              "      <td>118671.85</td>\n",
              "      <td>383199.62</td>\n",
              "      <td>New York</td>\n",
              "      <td>182901.99</td>\n",
              "      <td>144372.41</td>\n",
              "    </tr>\n",
              "    <tr>\n",
              "      <th>4</th>\n",
              "      <td>91391.77</td>\n",
              "      <td>366168.42</td>\n",
              "      <td>Florida</td>\n",
              "      <td>166187.94</td>\n",
              "      <td>142107.34</td>\n",
              "    </tr>\n",
              "    <tr>\n",
              "      <th>5</th>\n",
              "      <td>99814.71</td>\n",
              "      <td>362861.36</td>\n",
              "      <td>New York</td>\n",
              "      <td>156991.12</td>\n",
              "      <td>131876.90</td>\n",
              "    </tr>\n",
              "  </tbody>\n",
              "</table>\n",
              "</div>"
            ],
            "text/plain": [
              "   Administration  Marketing_Spend       State     Profit      Spend\n",
              "1       151377.59        443898.53  California  191792.06  162597.70\n",
              "2       101145.55        407934.54     Florida  191050.39  153441.51\n",
              "3       118671.85        383199.62    New York  182901.99  144372.41\n",
              "4        91391.77        366168.42     Florida  166187.94  142107.34\n",
              "5        99814.71        362861.36    New York  156991.12  131876.90"
            ]
          },
          "metadata": {},
          "execution_count": 17
        }
      ]
    },
    {
      "cell_type": "code",
      "metadata": {
        "colab": {
          "base_uri": "https://localhost:8080/"
        },
        "id": "KYNd7NkBkRT1",
        "outputId": "21cfcc60-c211-4f47-f932-d6f42011e9e5"
      },
      "source": [
        "a.info()"
      ],
      "execution_count": 18,
      "outputs": [
        {
          "output_type": "stream",
          "name": "stdout",
          "text": [
            "<class 'pandas.core.frame.DataFrame'>\n",
            "Int64Index: 999 entries, 1 to 999\n",
            "Data columns (total 5 columns):\n",
            " #   Column           Non-Null Count  Dtype  \n",
            "---  ------           --------------  -----  \n",
            " 0   Administration   999 non-null    float64\n",
            " 1   Marketing_Spend  999 non-null    float64\n",
            " 2   State            999 non-null    object \n",
            " 3   Profit           999 non-null    float64\n",
            " 4   Spend            999 non-null    float64\n",
            "dtypes: float64(4), object(1)\n",
            "memory usage: 46.8+ KB\n"
          ]
        }
      ]
    },
    {
      "cell_type": "code",
      "metadata": {
        "colab": {
          "base_uri": "https://localhost:8080/",
          "height": 295
        },
        "id": "XzNwIhUDkVri",
        "outputId": "36337536-bcb0-4052-b6df-599510cb355c"
      },
      "source": [
        "a.describe()"
      ],
      "execution_count": 19,
      "outputs": [
        {
          "output_type": "execute_result",
          "data": {
            "text/html": [
              "<div>\n",
              "<style scoped>\n",
              "    .dataframe tbody tr th:only-of-type {\n",
              "        vertical-align: middle;\n",
              "    }\n",
              "\n",
              "    .dataframe tbody tr th {\n",
              "        vertical-align: top;\n",
              "    }\n",
              "\n",
              "    .dataframe thead th {\n",
              "        text-align: right;\n",
              "    }\n",
              "</style>\n",
              "<table border=\"1\" class=\"dataframe\">\n",
              "  <thead>\n",
              "    <tr style=\"text-align: right;\">\n",
              "      <th></th>\n",
              "      <th>Administration</th>\n",
              "      <th>Marketing_Spend</th>\n",
              "      <th>Profit</th>\n",
              "      <th>Spend</th>\n",
              "    </tr>\n",
              "  </thead>\n",
              "  <tbody>\n",
              "    <tr>\n",
              "      <th>count</th>\n",
              "      <td>999.000000</td>\n",
              "      <td>999.000000</td>\n",
              "      <td>999.000000</td>\n",
              "      <td>999.000000</td>\n",
              "    </tr>\n",
              "    <tr>\n",
              "      <th>mean</th>\n",
              "      <td>122949.949761</td>\n",
              "      <td>225959.233552</td>\n",
              "      <td>119473.376202</td>\n",
              "      <td>81585.163163</td>\n",
              "    </tr>\n",
              "    <tr>\n",
              "      <th>std</th>\n",
              "      <td>12612.527915</td>\n",
              "      <td>91293.565802</td>\n",
              "      <td>42848.273790</td>\n",
              "      <td>46485.394118</td>\n",
              "    </tr>\n",
              "    <tr>\n",
              "      <th>min</th>\n",
              "      <td>51283.140000</td>\n",
              "      <td>0.000000</td>\n",
              "      <td>14681.400000</td>\n",
              "      <td>0.000000</td>\n",
              "    </tr>\n",
              "    <tr>\n",
              "      <th>25%</th>\n",
              "      <td>116639.540300</td>\n",
              "      <td>150727.914400</td>\n",
              "      <td>85909.667605</td>\n",
              "      <td>43081.000000</td>\n",
              "    </tr>\n",
              "    <tr>\n",
              "      <th>50%</th>\n",
              "      <td>122417.624700</td>\n",
              "      <td>224192.766100</td>\n",
              "      <td>117637.622000</td>\n",
              "      <td>79898.000000</td>\n",
              "    </tr>\n",
              "    <tr>\n",
              "      <th>75%</th>\n",
              "      <td>129123.684950</td>\n",
              "      <td>307741.199150</td>\n",
              "      <td>155471.623900</td>\n",
              "      <td>124232.000000</td>\n",
              "    </tr>\n",
              "    <tr>\n",
              "      <th>max</th>\n",
              "      <td>321652.140000</td>\n",
              "      <td>443898.530000</td>\n",
              "      <td>476485.430000</td>\n",
              "      <td>162597.700000</td>\n",
              "    </tr>\n",
              "  </tbody>\n",
              "</table>\n",
              "</div>"
            ],
            "text/plain": [
              "       Administration  Marketing_Spend         Profit          Spend\n",
              "count      999.000000       999.000000     999.000000     999.000000\n",
              "mean    122949.949761    225959.233552  119473.376202   81585.163163\n",
              "std      12612.527915     91293.565802   42848.273790   46485.394118\n",
              "min      51283.140000         0.000000   14681.400000       0.000000\n",
              "25%     116639.540300    150727.914400   85909.667605   43081.000000\n",
              "50%     122417.624700    224192.766100  117637.622000   79898.000000\n",
              "75%     129123.684950    307741.199150  155471.623900  124232.000000\n",
              "max     321652.140000    443898.530000  476485.430000  162597.700000"
            ]
          },
          "metadata": {},
          "execution_count": 19
        }
      ]
    },
    {
      "cell_type": "code",
      "metadata": {
        "id": "ikHzl1gCkmb9"
      },
      "source": [
        "import seaborn as sns"
      ],
      "execution_count": 21,
      "outputs": []
    },
    {
      "cell_type": "code",
      "metadata": {
        "colab": {
          "base_uri": "https://localhost:8080/",
          "height": 133
        },
        "id": "fzS1d3fykao-",
        "outputId": "78ab28ba-9784-4086-d9d8-c628e2f1eaa9"
      },
      "source": [
        "sns.set_style('dark')\n",
        "sns.palplot(sns.color_palette(\"summer\"))\n",
        "a.columns\n",
        "sns.barplot(data=a,x='State',y='Profit')"
      ],
      "execution_count": 24,
      "outputs": [
        {
          "output_type": "execute_result",
          "data": {
            "text/plain": [
              "<matplotlib.axes._subplots.AxesSubplot at 0x7fa367579410>"
            ]
          },
          "metadata": {},
          "execution_count": 24
        },
        {
          "output_type": "display_data",
          "data": {
            "image/png": "[encoded data removed]",
            "text/plain": [
              "<Figure size 432x72 with 1 Axes>"
            ]
          },
          "metadata": {}
        }
      ]
    },
    {
      "cell_type": "code",
      "metadata": {
        "colab": {
          "base_uri": "https://localhost:8080/",
          "height": 362
        },
        "id": "1QfyA48ykiXV",
        "outputId": "e44ef3cd-e8e9-4b36-a1ba-678b824a9ffa"
      },
      "source": [
        "sns.distplot(a['Marketing_Spend'])"
      ],
      "execution_count": 26,
      "outputs": [
        {
          "output_type": "stream",
          "name": "stderr",
          "text": [
            "/usr/local/lib/python3.7/dist-packages/seaborn/distributions.py:2619: FutureWarning: `distplot` is a deprecated function and will be removed in a future version. Please adapt your code to use either `displot` (a figure-level function with similar flexibility) or `histplot` (an axes-level function for histograms).\n",
            "  warnings.warn(msg, FutureWarning)\n"
          ]
        },
        {
          "output_type": "execute_result",
          "data": {
            "text/plain": [
              "<matplotlib.axes._subplots.AxesSubplot at 0x7fa366e8aed0>"
            ]
          },
          "metadata": {},
          "execution_count": 26
        },
        {
          "output_type": "display_data",
          "data": {
            "image/png": "[encoded data removed]",
            "text/plain": [
              "<Figure size 432x288 with 1 Axes>"
            ]
          },
          "metadata": {}
        }
      ]
    },
    {
      "cell_type": "code",
      "metadata": {
        "colab": {
          "base_uri": "https://localhost:8080/",
          "height": 361
        },
        "id": "AzDAg_ySlocy",
        "outputId": "64304def-9a95-4ac3-89cf-7679b5f27eb1"
      },
      "source": [
        "sns.distplot(a['Spend'])"
      ],
      "execution_count": 27,
      "outputs": [
        {
          "output_type": "stream",
          "name": "stderr",
          "text": [
            "/usr/local/lib/python3.7/dist-packages/seaborn/distributions.py:2619: FutureWarning: `distplot` is a deprecated function and will be removed in a future version. Please adapt your code to use either `displot` (a figure-level function with similar flexibility) or `histplot` (an axes-level function for histograms).\n",
            "  warnings.warn(msg, FutureWarning)\n"
          ]
        },
        {
          "output_type": "execute_result",
          "data": {
            "text/plain": [
              "<matplotlib.axes._subplots.AxesSubplot at 0x7fa366b9a3d0>"
            ]
          },
          "metadata": {},
          "execution_count": 27
        },
        {
          "output_type": "display_data",
          "data": {
            "image/png": "[encoded data removed]",
            "text/plain": [
              "<Figure size 432x288 with 1 Axes>"
            ]
          },
          "metadata": {}
        }
      ]
    },
    {
      "cell_type": "code",
      "metadata": {
        "colab": {
          "base_uri": "https://localhost:8080/",
          "height": 743
        },
        "id": "9Ii-e9nPl9nh",
        "outputId": "e6d863af-77cb-44b0-99c2-fbb13b7bfde4"
      },
      "source": [
        "sns.pairplot(data=a)"
      ],
      "execution_count": 28,
      "outputs": [
        {
          "output_type": "execute_result",
          "data": {
            "text/plain": [
              "<seaborn.axisgrid.PairGrid at 0x7fa363b32990>"
            ]
          },
          "metadata": {},
          "execution_count": 28
        },
        {
          "output_type": "display_data",
          "data": {
            "image/png": "[encoded data removed]",
            "text/plain": [
              "<Figure size 720x720 with 20 Axes>"
            ]
          },
          "metadata": {}
        }
      ]
    },
    {
      "cell_type": "code",
      "metadata": {
        "id": "HdmaGiZvmBpb"
      },
      "source": [
        "from sklearn.linear_model import LinearRegression\n",
        "from sklearn.model_selection import train_test_split"
      ],
      "execution_count": 29,
      "outputs": []
    },
    {
      "cell_type": "code",
      "metadata": {
        "colab": {
          "base_uri": "https://localhost:8080/",
          "height": 417
        },
        "id": "xmMRPn19mHwn",
        "outputId": "31970b46-c460-4cfc-b2a8-257110c18c14"
      },
      "source": [
        "b=pd.get_dummies(a['State'])\n",
        "b"
      ],
      "execution_count": 30,
      "outputs": [
        {
          "output_type": "execute_result",
          "data": {
            "text/html": [
              "<div>\n",
              "<style scoped>\n",
              "    .dataframe tbody tr th:only-of-type {\n",
              "        vertical-align: middle;\n",
              "    }\n",
              "\n",
              "    .dataframe tbody tr th {\n",
              "        vertical-align: top;\n",
              "    }\n",
              "\n",
              "    .dataframe thead th {\n",
              "        text-align: right;\n",
              "    }\n",
              "</style>\n",
              "<table border=\"1\" class=\"dataframe\">\n",
              "  <thead>\n",
              "    <tr style=\"text-align: right;\">\n",
              "      <th></th>\n",
              "      <th>California</th>\n",
              "      <th>Florida</th>\n",
              "      <th>New York</th>\n",
              "    </tr>\n",
              "  </thead>\n",
              "  <tbody>\n",
              "    <tr>\n",
              "      <th>1</th>\n",
              "      <td>1</td>\n",
              "      <td>0</td>\n",
              "      <td>0</td>\n",
              "    </tr>\n",
              "    <tr>\n",
              "      <th>2</th>\n",
              "      <td>0</td>\n",
              "      <td>1</td>\n",
              "      <td>0</td>\n",
              "    </tr>\n",
              "    <tr>\n",
              "      <th>3</th>\n",
              "      <td>0</td>\n",
              "      <td>0</td>\n",
              "      <td>1</td>\n",
              "    </tr>\n",
              "    <tr>\n",
              "      <th>4</th>\n",
              "      <td>0</td>\n",
              "      <td>1</td>\n",
              "      <td>0</td>\n",
              "    </tr>\n",
              "    <tr>\n",
              "      <th>5</th>\n",
              "      <td>0</td>\n",
              "      <td>0</td>\n",
              "      <td>1</td>\n",
              "    </tr>\n",
              "    <tr>\n",
              "      <th>...</th>\n",
              "      <td>...</td>\n",
              "      <td>...</td>\n",
              "      <td>...</td>\n",
              "    </tr>\n",
              "    <tr>\n",
              "      <th>995</th>\n",
              "      <td>1</td>\n",
              "      <td>0</td>\n",
              "      <td>0</td>\n",
              "    </tr>\n",
              "    <tr>\n",
              "      <th>996</th>\n",
              "      <td>1</td>\n",
              "      <td>0</td>\n",
              "      <td>0</td>\n",
              "    </tr>\n",
              "    <tr>\n",
              "      <th>997</th>\n",
              "      <td>1</td>\n",
              "      <td>0</td>\n",
              "      <td>0</td>\n",
              "    </tr>\n",
              "    <tr>\n",
              "      <th>998</th>\n",
              "      <td>1</td>\n",
              "      <td>0</td>\n",
              "      <td>0</td>\n",
              "    </tr>\n",
              "    <tr>\n",
              "      <th>999</th>\n",
              "      <td>0</td>\n",
              "      <td>0</td>\n",
              "      <td>1</td>\n",
              "    </tr>\n",
              "  </tbody>\n",
              "</table>\n",
              "<p>999 rows × 3 columns</p>\n",
              "</div>"
            ],
            "text/plain": [
              "     California  Florida  New York\n",
              "1             1        0         0\n",
              "2             0        1         0\n",
              "3             0        0         1\n",
              "4             0        1         0\n",
              "5             0        0         1\n",
              "..          ...      ...       ...\n",
              "995           1        0         0\n",
              "996           1        0         0\n",
              "997           1        0         0\n",
              "998           1        0         0\n",
              "999           0        0         1\n",
              "\n",
              "[999 rows x 3 columns]"
            ]
          },
          "metadata": {},
          "execution_count": 30
        }
      ]
    },
    {
      "cell_type": "code",
      "metadata": {
        "colab": {
          "base_uri": "https://localhost:8080/",
          "height": 454
        },
        "id": "OL9ASBJWmMV6",
        "outputId": "a637e4f3-f164-498b-b27d-fcfa87e8c7bd"
      },
      "source": [
        "c=pd.concat([a,b],axis=1)\n",
        "c=c.drop(['State'],axis=1)\n",
        "c"
      ],
      "execution_count": 31,
      "outputs": [
        {
          "output_type": "execute_result",
          "data": {
            "text/html": [
              "<div>\n",
              "<style scoped>\n",
              "    .dataframe tbody tr th:only-of-type {\n",
              "        vertical-align: middle;\n",
              "    }\n",
              "\n",
              "    .dataframe tbody tr th {\n",
              "        vertical-align: top;\n",
              "    }\n",
              "\n",
              "    .dataframe thead th {\n",
              "        text-align: right;\n",
              "    }\n",
              "</style>\n",
              "<table border=\"1\" class=\"dataframe\">\n",
              "  <thead>\n",
              "    <tr style=\"text-align: right;\">\n",
              "      <th></th>\n",
              "      <th>Administration</th>\n",
              "      <th>Marketing_Spend</th>\n",
              "      <th>Profit</th>\n",
              "      <th>Spend</th>\n",
              "      <th>California</th>\n",
              "      <th>Florida</th>\n",
              "      <th>New York</th>\n",
              "    </tr>\n",
              "  </thead>\n",
              "  <tbody>\n",
              "    <tr>\n",
              "      <th>1</th>\n",
              "      <td>151377.590</td>\n",
              "      <td>443898.5300</td>\n",
              "      <td>191792.06000</td>\n",
              "      <td>162597.70</td>\n",
              "      <td>1</td>\n",
              "      <td>0</td>\n",
              "      <td>0</td>\n",
              "    </tr>\n",
              "    <tr>\n",
              "      <th>2</th>\n",
              "      <td>101145.550</td>\n",
              "      <td>407934.5400</td>\n",
              "      <td>191050.39000</td>\n",
              "      <td>153441.51</td>\n",
              "      <td>0</td>\n",
              "      <td>1</td>\n",
              "      <td>0</td>\n",
              "    </tr>\n",
              "    <tr>\n",
              "      <th>3</th>\n",
              "      <td>118671.850</td>\n",
              "      <td>383199.6200</td>\n",
              "      <td>182901.99000</td>\n",
              "      <td>144372.41</td>\n",
              "      <td>0</td>\n",
              "      <td>0</td>\n",
              "      <td>1</td>\n",
              "    </tr>\n",
              "    <tr>\n",
              "      <th>4</th>\n",
              "      <td>91391.770</td>\n",
              "      <td>366168.4200</td>\n",
              "      <td>166187.94000</td>\n",
              "      <td>142107.34</td>\n",
              "      <td>0</td>\n",
              "      <td>1</td>\n",
              "      <td>0</td>\n",
              "    </tr>\n",
              "    <tr>\n",
              "      <th>5</th>\n",
              "      <td>99814.710</td>\n",
              "      <td>362861.3600</td>\n",
              "      <td>156991.12000</td>\n",
              "      <td>131876.90</td>\n",
              "      <td>0</td>\n",
              "      <td>0</td>\n",
              "      <td>1</td>\n",
              "    </tr>\n",
              "    <tr>\n",
              "      <th>...</th>\n",
              "      <td>...</td>\n",
              "      <td>...</td>\n",
              "      <td>...</td>\n",
              "      <td>...</td>\n",
              "      <td>...</td>\n",
              "      <td>...</td>\n",
              "      <td>...</td>\n",
              "    </tr>\n",
              "    <tr>\n",
              "      <th>995</th>\n",
              "      <td>118451.999</td>\n",
              "      <td>173232.6695</td>\n",
              "      <td>95279.96251</td>\n",
              "      <td>54135.00</td>\n",
              "      <td>1</td>\n",
              "      <td>0</td>\n",
              "      <td>0</td>\n",
              "    </tr>\n",
              "    <tr>\n",
              "      <th>996</th>\n",
              "      <td>130390.080</td>\n",
              "      <td>329204.0228</td>\n",
              "      <td>164336.60550</td>\n",
              "      <td>134970.00</td>\n",
              "      <td>1</td>\n",
              "      <td>0</td>\n",
              "      <td>0</td>\n",
              "    </tr>\n",
              "    <tr>\n",
              "      <th>997</th>\n",
              "      <td>241926.310</td>\n",
              "      <td>227142.8200</td>\n",
              "      <td>413956.48000</td>\n",
              "      <td>100275.47</td>\n",
              "      <td>1</td>\n",
              "      <td>0</td>\n",
              "      <td>0</td>\n",
              "    </tr>\n",
              "    <tr>\n",
              "      <th>998</th>\n",
              "      <td>321652.140</td>\n",
              "      <td>281692.3200</td>\n",
              "      <td>333962.19000</td>\n",
              "      <td>128456.23</td>\n",
              "      <td>1</td>\n",
              "      <td>0</td>\n",
              "      <td>0</td>\n",
              "    </tr>\n",
              "    <tr>\n",
              "      <th>999</th>\n",
              "      <td>270939.860</td>\n",
              "      <td>295442.1700</td>\n",
              "      <td>476485.43000</td>\n",
              "      <td>161181.72</td>\n",
              "      <td>0</td>\n",
              "      <td>0</td>\n",
              "      <td>1</td>\n",
              "    </tr>\n",
              "  </tbody>\n",
              "</table>\n",
              "<p>999 rows × 7 columns</p>\n",
              "</div>"
            ],
            "text/plain": [
              "     Administration  Marketing_Spend  ...  Florida  New York\n",
              "1        151377.590      443898.5300  ...        0         0\n",
              "2        101145.550      407934.5400  ...        1         0\n",
              "3        118671.850      383199.6200  ...        0         1\n",
              "4         91391.770      366168.4200  ...        1         0\n",
              "5         99814.710      362861.3600  ...        0         1\n",
              "..              ...              ...  ...      ...       ...\n",
              "995      118451.999      173232.6695  ...        0         0\n",
              "996      130390.080      329204.0228  ...        0         0\n",
              "997      241926.310      227142.8200  ...        0         0\n",
              "998      321652.140      281692.3200  ...        0         0\n",
              "999      270939.860      295442.1700  ...        0         1\n",
              "\n",
              "[999 rows x 7 columns]"
            ]
          },
          "metadata": {},
          "execution_count": 31
        }
      ]
    },
    {
      "cell_type": "code",
      "metadata": {
        "id": "iMbWLQlfmRD1"
      },
      "source": [
        "X=c[['Spend','Marketing_Spend','California','Administration','Florida','New York']]\n",
        "y=c['Profit']"
      ],
      "execution_count": 32,
      "outputs": []
    },
    {
      "cell_type": "code",
      "metadata": {
        "id": "KeV7FwRWmdsQ"
      },
      "source": [
        "X_train, X_test, y_train, y_test = train_test_split(X, y, test_size=0.3,random_state=23)"
      ],
      "execution_count": 33,
      "outputs": []
    },
    {
      "cell_type": "code",
      "metadata": {
        "colab": {
          "base_uri": "https://localhost:8080/"
        },
        "id": "yiiwQqQvmgO_",
        "outputId": "07b5e8bb-e137-4947-84e6-e75f1b6e79df"
      },
      "source": [
        "X_train.shape,X_test.shape"
      ],
      "execution_count": 34,
      "outputs": [
        {
          "output_type": "execute_result",
          "data": {
            "text/plain": [
              "((699, 6), (300, 6))"
            ]
          },
          "metadata": {},
          "execution_count": 34
        }
      ]
    },
    {
      "cell_type": "code",
      "metadata": {
        "colab": {
          "base_uri": "https://localhost:8080/"
        },
        "id": "2PuHXpC8mkJT",
        "outputId": "28cf70c2-e4e5-4495-ac9e-e9a08eb60699"
      },
      "source": [
        "model=LinearRegression()\n",
        "model.fit(X_train,y_train)"
      ],
      "execution_count": 36,
      "outputs": [
        {
          "output_type": "execute_result",
          "data": {
            "text/plain": [
              "LinearRegression(copy_X=True, fit_intercept=True, n_jobs=None, normalize=False)"
            ]
          },
          "metadata": {},
          "execution_count": 36
        }
      ]
    },
    {
      "cell_type": "code",
      "metadata": {
        "id": "d6yaQ5Y2movP"
      },
      "source": [
        "y_pred=model.predict(X_test)"
      ],
      "execution_count": 37,
      "outputs": []
    },
    {
      "cell_type": "code",
      "metadata": {
        "colab": {
          "base_uri": "https://localhost:8080/"
        },
        "id": "lxgdMaRkmxhq",
        "outputId": "0155a16f-c908-4a6e-d37c-5b7b008ed970"
      },
      "source": [
        "y_pred"
      ],
      "execution_count": 38,
      "outputs": [
        {
          "output_type": "execute_result",
          "data": {
            "text/plain": [
              "array([ 65769.23301884,  74590.49559059,  60833.49512077, 182063.04826488,\n",
              "        57291.79807791, 100816.59344599, 112118.69468429, 120264.52336424,\n",
              "       159236.3434169 , 139835.96691142, 109747.62448849, 155486.4443848 ,\n",
              "       139483.93709316,  88303.54580182, 100047.51948378,  90281.45948153,\n",
              "       137711.14991772, 153935.79887589,  64426.18186136, 104338.83539034,\n",
              "        70475.48615403, 161006.91432635, 182798.921853  , 128833.88018162,\n",
              "       130467.85687595, 141160.00871058, 176854.92377402,  69772.25783869,\n",
              "       109806.90120301,  92656.16039936,  66064.75760991, 161424.42885969,\n",
              "       156678.4912631 , 127399.87559599, 167425.98545005, 127893.84864838,\n",
              "       176582.59433842,  91936.91314128,  73069.72364018, 153172.37747903,\n",
              "       113303.17626451, 171148.03279318, 182418.34786026, 116762.04040912,\n",
              "       147200.88885673, 173587.82970079, 106210.2799815 , 182353.05755475,\n",
              "       160246.62544245, 127972.8842321 ,  85134.02614813, 113311.46340002,\n",
              "        90745.9197872 , 162022.65461463, 113366.08368796, 133614.67931698,\n",
              "       385653.3925066 , 110130.58124326, 129241.75041504, 172624.60278512,\n",
              "       171353.35370701, 135328.5507097 ,  78468.20375949, 174488.51000479,\n",
              "       133695.79414259,  50669.67945308,  90854.46811764,  88750.57285492,\n",
              "        89330.4541705 , 164228.97514612,  76891.48191016, 141471.85599151,\n",
              "       125920.23035651, 117978.00438724, 141705.02862051, 106715.42099427,\n",
              "        71089.53641596, 159504.37745156,  84156.85785906, 118196.51525102,\n",
              "       174495.38269736, 145624.1670074 ,  68297.51540054, 100848.3796172 ,\n",
              "        80428.6319945 , 108813.302666  , 100654.58770249, 104507.57668229,\n",
              "        98954.461708  , 129844.82700612, 158896.64455393, 174078.72726559,\n",
              "        68904.22268745, 152818.43515499, 171604.87074918,  90147.99780557,\n",
              "        87893.20760123, 137538.47414355, 170937.91829553, 142058.41559009,\n",
              "       116241.7968337 ,  57160.55266139, 171710.23436142, 149149.28990975,\n",
              "       173932.68305318, 156153.95217981,  99211.82572508, 120890.14542535,\n",
              "        77525.12454524, 127188.54109116, 136900.67327786, 161669.26763195,\n",
              "        58963.76872753, 124358.05572846, 101444.58351571,  54375.76524939,\n",
              "       121778.22831945,  58757.09052139, 143271.44135788,  79351.89680165,\n",
              "       173003.1548145 ,  95849.73429699, 126527.24129669, 106992.34959102,\n",
              "       131184.33240666,  52054.16096297, 138703.03023849, 107314.70026034,\n",
              "        89402.31340838, 133845.57840148,  84876.30109231, 107369.18352418,\n",
              "        73406.18063954, 147115.53580178,  77158.65685634,  81497.33175302,\n",
              "        76634.25503721, 103417.89804737, 171270.881717  , 168803.0960832 ,\n",
              "        52877.16284898, 102845.25032997, 108449.54943906,  54733.44773732,\n",
              "       130882.29605483, 138083.99211632, 163482.79268609, 123015.66938301,\n",
              "        56959.88816889, 178313.64740254, 173200.38301549, 107080.53151875,\n",
              "       185889.70945622,  65805.31445787,  92356.14587777,  83197.15410733,\n",
              "       125666.74115185, 110457.89200554, 118210.45493878, 164237.37161918,\n",
              "       181239.68544838,  94675.86534889,  91905.12709009, 101374.13860075,\n",
              "        46637.89936792,  56303.18741686, 124815.94722179, 106359.20513881,\n",
              "        74808.50839152, 116079.78298257, 173600.21781458,  58873.56494468,\n",
              "        86629.19226752, 163575.01831358,  87306.45371311, 149660.63893618,\n",
              "       175482.77322072,  89419.79885309, 182777.25037109,  63913.61281466,\n",
              "       118146.88283641, 174055.83575031,  95663.81132055, 126872.39842239,\n",
              "        72238.68630807,  65128.05301229,  95783.02954853,  77299.1855275 ,\n",
              "        84153.31390778, 114804.85403773, 106279.31046661, 151940.14818341,\n",
              "       138646.33070866, 129700.71222565,  75539.28463563,  78932.1087238 ,\n",
              "       135413.60000444, 149766.97086751, 168500.14335127, 156605.46915035,\n",
              "       121707.28534165,  85303.61646451, 171291.8607265 , 131008.22035931,\n",
              "        79651.71688749, 168184.55601077, 155100.16056128, 105926.78246549,\n",
              "       170231.39082496,  91400.54141868,  60251.53467679, 152946.63288395,\n",
              "       163495.12352136, 176082.10975222, 107182.2070366 ,  71960.64693476,\n",
              "        76824.11248279,  61138.96788937, 110677.81741918, 125449.82857069,\n",
              "        74744.27159714, 121518.78518051, 145746.46060295, 158656.46208822,\n",
              "        53879.51878168, 102641.11139373, 138575.59064637, 165482.18343815,\n",
              "       127890.41224208, 181452.5437599 , 175244.50338082,  87672.11944583,\n",
              "       143837.57728833, 149728.00848357, 178287.01585387,  82222.39817944,\n",
              "        88393.19412459, 185020.01338035,  83169.96708418, 132247.87767576,\n",
              "       149877.12793043, 158191.69803544,  52702.5745795 , 165107.81745907,\n",
              "       115464.82446126, 141509.65575371,  88647.67719676, 105363.22383976,\n",
              "       160304.48783406,  98769.39783313, 142658.61123626, 164909.3692247 ,\n",
              "       168913.05873656, 129807.22165348, 162123.16737762,  92373.88290363,\n",
              "        70572.36822119, 147490.49479494,  51139.23720969, 142021.47504949,\n",
              "       182319.91421912,  88565.56612546,  57020.52204652, 126995.44176887,\n",
              "        82465.71317121, 166608.99715635, 124191.39355837, 158758.99682767,\n",
              "       169449.12681897, 165140.82365056,  64785.77685769, 180166.49589245,\n",
              "       163898.58901628,  87656.10063621, 140925.47905028, 119796.12860254,\n",
              "        68580.34822454, 160132.86546409, 158685.310036  ,  57313.46956506,\n",
              "        67788.07898683, 128805.89145545, 178898.48879798,  58091.3009269 ,\n",
              "        59433.49298412, 120495.97777701, 168535.36580875, 166139.38225433,\n",
              "       116250.02670378, 182302.17720635,  86496.33799195, 175827.46006396,\n",
              "        92342.59491529,  86235.17664986,  73242.09564106, 116480.26097623,\n",
              "       155406.85335278, 164732.75899448,  97343.1249347 , 126557.11485519])"
            ]
          },
          "metadata": {},
          "execution_count": 38
        }
      ]
    },
    {
      "cell_type": "code",
      "metadata": {
        "id": "XqAJNHdsm0Sd"
      },
      "source": [
        "from sklearn.metrics import mean_absolute_error,mean_squared_error,r2_score\n"
      ],
      "execution_count": 39,
      "outputs": []
    },
    {
      "cell_type": "code",
      "metadata": {
        "colab": {
          "base_uri": "https://localhost:8080/"
        },
        "id": "ZPUkUHGym4-J",
        "outputId": "4a0cd157-b8f4-4620-e00e-5ebf5e84233c"
      },
      "source": [
        "accuracy=r2_score(y_test,y_pred)\n",
        "accuracy"
      ],
      "execution_count": 40,
      "outputs": [
        {
          "output_type": "execute_result",
          "data": {
            "text/plain": [
              "0.9773176190301314"
            ]
          },
          "metadata": {},
          "execution_count": 40
        }
      ]
    },
    {
      "cell_type": "code",
      "metadata": {
        "colab": {
          "base_uri": "https://localhost:8080/"
        },
        "id": "funasymWm7ZY",
        "outputId": "421b38d3-056e-48e4-dc49-28aa8ecda2cc"
      },
      "source": [
        "print(f\"The accuracy of the model is, {round(accuracy,2)}\")"
      ],
      "execution_count": 41,
      "outputs": [
        {
          "output_type": "stream",
          "name": "stdout",
          "text": [
            "The accuracy of the model is, 0.98\n"
          ]
        }
      ]
    },
    {
      "cell_type": "code",
      "metadata": {
        "id": "qd8eziTzm9xB"
      },
      "source": [
        ""
      ],
      "execution_count": null,
      "outputs": []
    }
  ]
}